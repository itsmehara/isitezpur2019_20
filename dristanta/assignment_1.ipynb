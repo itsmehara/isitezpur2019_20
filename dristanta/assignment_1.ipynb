{
 "cells": [
  {
   "cell_type": "markdown",
   "metadata": {},
   "source": [
    "## Assignment TCS\n",
    "\n",
    "Name- Dristanta Nirola  \n",
    "Roll- 10"
   ]
  },
  {
   "cell_type": "markdown",
   "metadata": {},
   "source": [
    "### 1) What is the variable?\n",
    "\n",
    "Ans: A variable is a reserved memory location to store values. In other words, a variable in program is a container to store data and gives data to the computer for processing.  \n",
    "\n",
    "Rules for Python variables:  \n",
    "Unlike other programming languages, Python has no command for declaring a variable.  \n",
    "A variable name must start with a letter or the underscore character.  \n",
    "A variable name cannot start with a number.  \n",
    "A variable name can only contain alpha-numeric characters and underscores (A-z, 0-9, and _ ).  \n",
    "Variable names are case-sensitive (age, Age and AGE are three different variables).  \n",
    "\n",
    "**Ref: https://www.w3schools.com/python/default.asp"
   ]
  },
  {
   "cell_type": "markdown",
   "metadata": {},
   "source": [
    "### 2) What is a compiler?  \n",
    "\n",
    "Ans: Compiler is a way to execute a program written in a programming or scripting language.\n",
    "A compiler takes entire program and converts it into object code which is typically stored in a file. The object code is also refereed as binary code and can be directly executed by the machine after linking.  \n",
    "Examples of compiled programming languages are C and C++."
   ]
  },
  {
   "cell_type": "markdown",
   "metadata": {},
   "source": [
    "### 3) What is an interpreter?\n",
    "An Interpreter directly executes instructions written in a programming or scripting language without previously converting them to an object code or machine code.   \n",
    "Examples of interpreted languages are Perl, Python and Matlab"
   ]
  },
  {
   "cell_type": "markdown",
   "metadata": {},
   "source": [
    "### 4) What Is Object-Oriented Programming?\n",
    "\n",
    "Ans: Object oriented programming is a way of writing computer programming which is using the idea of \"object to represent data and methods. usually, a computer programs were just a list of instructions to the computer telling the computer to do certain task in a certain way, which is calle  procedural programming. However, in object oriented programming, computer rograms make use of objects that talk to one another and to change the data in those objects, to work in a way the user wants. Also, because of the way object-oriwntd programming is the desingned, it helps the developer by allowing for code to be easily reused by other parts of the program of even by other people."
   ]
  },
  {
   "cell_type": "markdown",
   "metadata": {},
   "source": [
    "### 6) What is the Class?  \n",
    "\n",
    "Ans: in object-oriented programming language almost all the code is implemented using a special construct called classes. In other word class is a code template for creating objects. Programmers use classes to keep related things together."
   ]
  },
  {
   "cell_type": "markdown",
   "metadata": {},
   "source": [
    "### 7) What is Object?\n",
    "\n",
    "Ans: In object oriented programming language almost everything is an object, with its properties and methods. It can be a variable, a data structure, a function, or a method, and as such, is a value in memory referenced by an identifier."
   ]
  },
  {
   "cell_type": "markdown",
   "metadata": {},
   "source": [
    "### 8) What is Inheritance?\n",
    "\n",
    "Ans: Inheritance allows us to define a class that inherits all the methods and properties from another class. By using inheretance we can create a class which uses all the property and behaviour of the another class. The new class ids known as a derived class or chile class, and the one whose properties are acquired is known as a base class or a parent class. "
   ]
  },
  {
   "cell_type": "markdown",
   "metadata": {},
   "source": [
    "### 9) What is Polymorphism?\n",
    "\n",
    "Ans:  A programming language's ability to process objects differently depending on their data type or class.\n",
    "\n",
    "Example: Example of polymorphism can be the use of addition opperator with an Integer and a List data type."
   ]
  },
  {
   "cell_type": "markdown",
   "metadata": {},
   "source": [
    "### 10) What is Encapsulation & Data Hideing?\n",
    "\n",
    "Ans: Encapsulation is one of the fundamental concepts in object-oriented programming (OOP). It describes the idea of wrapping data and the methods that work on data within one unit. This puts restrictions on accessing variables and methods directly and can prevent the accidental modification of data. To prevent accidental change, an object’s variable can only be changed by an object’s method. Those type of variables are known as private varibale.  \n",
    "\n",
    "A class is an example of encapsulation as it encapsulates all the data that is member functions, variables, etc.\n",
    "\n",
    "\n",
    "** Ref: https://www.geeksforgeeks.org/encapsulation-in-python/"
   ]
  }
 ],
 "metadata": {
  "kernelspec": {
   "display_name": "Python 3",
   "language": "python",
   "name": "python3"
  },
  "language_info": {
   "codemirror_mode": {
    "name": "ipython",
    "version": 3
   },
   "file_extension": ".py",
   "mimetype": "text/x-python",
   "name": "python",
   "nbconvert_exporter": "python",
   "pygments_lexer": "ipython3",
   "version": "3.7.3"
  }
 },
 "nbformat": 4,
 "nbformat_minor": 2
}
